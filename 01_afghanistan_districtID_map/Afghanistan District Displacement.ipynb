{
 "cells": [
  {
   "cell_type": "code",
   "execution_count": 2,
   "metadata": {},
   "outputs": [],
   "source": [
    "import pandas as pd\n",
    "import numpy as np\n",
    "import matplotlib.pyplot as plt"
   ]
  },
  {
   "cell_type": "code",
   "execution_count": 3,
   "metadata": {},
   "outputs": [],
   "source": [
    "vists_district_15_df = pd.read_csv('/data/afg_anon/displacement_metrics/visits_per_district_day/k_15.csv')"
   ]
  },
  {
   "cell_type": "code",
   "execution_count": 4,
   "metadata": {},
   "outputs": [
    {
     "data": {
      "text/html": [
       "<div>\n",
       "<style scoped>\n",
       "    .dataframe tbody tr th:only-of-type {\n",
       "        vertical-align: middle;\n",
       "    }\n",
       "\n",
       "    .dataframe tbody tr th {\n",
       "        vertical-align: top;\n",
       "    }\n",
       "\n",
       "    .dataframe thead th {\n",
       "        text-align: right;\n",
       "    }\n",
       "</style>\n",
       "<table border=\"1\" class=\"dataframe\">\n",
       "  <thead>\n",
       "    <tr style=\"text-align: right;\">\n",
       "      <th></th>\n",
       "      <th>origin_district</th>\n",
       "      <th>impact_day</th>\n",
       "      <th>impacted</th>\n",
       "      <th>destination_district</th>\n",
       "      <th>visit_day</th>\n",
       "      <th>visits</th>\n",
       "    </tr>\n",
       "  </thead>\n",
       "  <tbody>\n",
       "    <tr>\n",
       "      <th>0</th>\n",
       "      <td>101</td>\n",
       "      <td>1</td>\n",
       "      <td>86936</td>\n",
       "      <td>101</td>\n",
       "      <td>16</td>\n",
       "      <td>78951.0</td>\n",
       "    </tr>\n",
       "    <tr>\n",
       "      <th>1</th>\n",
       "      <td>101</td>\n",
       "      <td>1</td>\n",
       "      <td>86936</td>\n",
       "      <td>102</td>\n",
       "      <td>16</td>\n",
       "      <td>17.0</td>\n",
       "    </tr>\n",
       "    <tr>\n",
       "      <th>2</th>\n",
       "      <td>101</td>\n",
       "      <td>1</td>\n",
       "      <td>86936</td>\n",
       "      <td>103</td>\n",
       "      <td>16</td>\n",
       "      <td>6.0</td>\n",
       "    </tr>\n",
       "    <tr>\n",
       "      <th>3</th>\n",
       "      <td>101</td>\n",
       "      <td>1</td>\n",
       "      <td>86936</td>\n",
       "      <td>104</td>\n",
       "      <td>16</td>\n",
       "      <td>0.0</td>\n",
       "    </tr>\n",
       "    <tr>\n",
       "      <th>4</th>\n",
       "      <td>101</td>\n",
       "      <td>1</td>\n",
       "      <td>86936</td>\n",
       "      <td>105</td>\n",
       "      <td>16</td>\n",
       "      <td>6.0</td>\n",
       "    </tr>\n",
       "    <tr>\n",
       "      <th>...</th>\n",
       "      <td>...</td>\n",
       "      <td>...</td>\n",
       "      <td>...</td>\n",
       "      <td>...</td>\n",
       "      <td>...</td>\n",
       "      <td>...</td>\n",
       "    </tr>\n",
       "    <tr>\n",
       "      <th>231428239</th>\n",
       "      <td>3409</td>\n",
       "      <td>1461</td>\n",
       "      <td>0</td>\n",
       "      <td>3405</td>\n",
       "      <td>1476</td>\n",
       "      <td>NaN</td>\n",
       "    </tr>\n",
       "    <tr>\n",
       "      <th>231428240</th>\n",
       "      <td>3409</td>\n",
       "      <td>1461</td>\n",
       "      <td>0</td>\n",
       "      <td>3406</td>\n",
       "      <td>1476</td>\n",
       "      <td>NaN</td>\n",
       "    </tr>\n",
       "    <tr>\n",
       "      <th>231428241</th>\n",
       "      <td>3409</td>\n",
       "      <td>1461</td>\n",
       "      <td>0</td>\n",
       "      <td>3407</td>\n",
       "      <td>1476</td>\n",
       "      <td>NaN</td>\n",
       "    </tr>\n",
       "    <tr>\n",
       "      <th>231428242</th>\n",
       "      <td>3409</td>\n",
       "      <td>1461</td>\n",
       "      <td>0</td>\n",
       "      <td>3408</td>\n",
       "      <td>1476</td>\n",
       "      <td>NaN</td>\n",
       "    </tr>\n",
       "    <tr>\n",
       "      <th>231428243</th>\n",
       "      <td>3409</td>\n",
       "      <td>1461</td>\n",
       "      <td>0</td>\n",
       "      <td>3409</td>\n",
       "      <td>1476</td>\n",
       "      <td>NaN</td>\n",
       "    </tr>\n",
       "  </tbody>\n",
       "</table>\n",
       "<p>231428244 rows × 6 columns</p>\n",
       "</div>"
      ],
      "text/plain": [
       "           origin_district  impact_day  impacted  destination_district  \\\n",
       "0                      101           1     86936                   101   \n",
       "1                      101           1     86936                   102   \n",
       "2                      101           1     86936                   103   \n",
       "3                      101           1     86936                   104   \n",
       "4                      101           1     86936                   105   \n",
       "...                    ...         ...       ...                   ...   \n",
       "231428239             3409        1461         0                  3405   \n",
       "231428240             3409        1461         0                  3406   \n",
       "231428241             3409        1461         0                  3407   \n",
       "231428242             3409        1461         0                  3408   \n",
       "231428243             3409        1461         0                  3409   \n",
       "\n",
       "           visit_day   visits  \n",
       "0                 16  78951.0  \n",
       "1                 16     17.0  \n",
       "2                 16      6.0  \n",
       "3                 16      0.0  \n",
       "4                 16      6.0  \n",
       "...              ...      ...  \n",
       "231428239       1476      NaN  \n",
       "231428240       1476      NaN  \n",
       "231428241       1476      NaN  \n",
       "231428242       1476      NaN  \n",
       "231428243       1476      NaN  \n",
       "\n",
       "[231428244 rows x 6 columns]"
      ]
     },
     "execution_count": 4,
     "metadata": {},
     "output_type": "execute_result"
    }
   ],
   "source": [
    "vists_district_15_df"
   ]
  },
  {
   "cell_type": "markdown",
   "metadata": {},
   "source": [
    "# Isolating Data That Fits The Critera"
   ]
  },
  {
   "cell_type": "code",
   "execution_count": 19,
   "metadata": {
    "scrolled": true
   },
   "outputs": [
    {
     "data": {
      "text/html": [
       "<div>\n",
       "<style scoped>\n",
       "    .dataframe tbody tr th:only-of-type {\n",
       "        vertical-align: middle;\n",
       "    }\n",
       "\n",
       "    .dataframe tbody tr th {\n",
       "        vertical-align: top;\n",
       "    }\n",
       "\n",
       "    .dataframe thead th {\n",
       "        text-align: right;\n",
       "    }\n",
       "</style>\n",
       "<table border=\"1\" class=\"dataframe\">\n",
       "  <thead>\n",
       "    <tr style=\"text-align: right;\">\n",
       "      <th></th>\n",
       "      <th>origin_district</th>\n",
       "      <th>impact_day</th>\n",
       "      <th>impacted</th>\n",
       "      <th>destination_district</th>\n",
       "      <th>visit_day</th>\n",
       "      <th>visits</th>\n",
       "    </tr>\n",
       "  </thead>\n",
       "  <tbody>\n",
       "    <tr>\n",
       "      <th>0</th>\n",
       "      <td>101</td>\n",
       "      <td>1</td>\n",
       "      <td>86936</td>\n",
       "      <td>101</td>\n",
       "      <td>16</td>\n",
       "      <td>78951.0</td>\n",
       "    </tr>\n",
       "    <tr>\n",
       "      <th>1</th>\n",
       "      <td>101</td>\n",
       "      <td>1</td>\n",
       "      <td>86936</td>\n",
       "      <td>102</td>\n",
       "      <td>16</td>\n",
       "      <td>17.0</td>\n",
       "    </tr>\n",
       "    <tr>\n",
       "      <th>2</th>\n",
       "      <td>101</td>\n",
       "      <td>1</td>\n",
       "      <td>86936</td>\n",
       "      <td>103</td>\n",
       "      <td>16</td>\n",
       "      <td>6.0</td>\n",
       "    </tr>\n",
       "    <tr>\n",
       "      <th>3</th>\n",
       "      <td>101</td>\n",
       "      <td>1</td>\n",
       "      <td>86936</td>\n",
       "      <td>104</td>\n",
       "      <td>16</td>\n",
       "      <td>0.0</td>\n",
       "    </tr>\n",
       "    <tr>\n",
       "      <th>4</th>\n",
       "      <td>101</td>\n",
       "      <td>1</td>\n",
       "      <td>86936</td>\n",
       "      <td>105</td>\n",
       "      <td>16</td>\n",
       "      <td>6.0</td>\n",
       "    </tr>\n",
       "    <tr>\n",
       "      <th>...</th>\n",
       "      <td>...</td>\n",
       "      <td>...</td>\n",
       "      <td>...</td>\n",
       "      <td>...</td>\n",
       "      <td>...</td>\n",
       "      <td>...</td>\n",
       "    </tr>\n",
       "    <tr>\n",
       "      <th>230847159</th>\n",
       "      <td>3409</td>\n",
       "      <td>1</td>\n",
       "      <td>0</td>\n",
       "      <td>3405</td>\n",
       "      <td>16</td>\n",
       "      <td>NaN</td>\n",
       "    </tr>\n",
       "    <tr>\n",
       "      <th>230847160</th>\n",
       "      <td>3409</td>\n",
       "      <td>1</td>\n",
       "      <td>0</td>\n",
       "      <td>3406</td>\n",
       "      <td>16</td>\n",
       "      <td>NaN</td>\n",
       "    </tr>\n",
       "    <tr>\n",
       "      <th>230847161</th>\n",
       "      <td>3409</td>\n",
       "      <td>1</td>\n",
       "      <td>0</td>\n",
       "      <td>3407</td>\n",
       "      <td>16</td>\n",
       "      <td>NaN</td>\n",
       "    </tr>\n",
       "    <tr>\n",
       "      <th>230847162</th>\n",
       "      <td>3409</td>\n",
       "      <td>1</td>\n",
       "      <td>0</td>\n",
       "      <td>3408</td>\n",
       "      <td>16</td>\n",
       "      <td>NaN</td>\n",
       "    </tr>\n",
       "    <tr>\n",
       "      <th>230847163</th>\n",
       "      <td>3409</td>\n",
       "      <td>1</td>\n",
       "      <td>0</td>\n",
       "      <td>3409</td>\n",
       "      <td>16</td>\n",
       "      <td>NaN</td>\n",
       "    </tr>\n",
       "  </tbody>\n",
       "</table>\n",
       "<p>158404 rows × 6 columns</p>\n",
       "</div>"
      ],
      "text/plain": [
       "           origin_district  impact_day  impacted  destination_district  \\\n",
       "0                      101           1     86936                   101   \n",
       "1                      101           1     86936                   102   \n",
       "2                      101           1     86936                   103   \n",
       "3                      101           1     86936                   104   \n",
       "4                      101           1     86936                   105   \n",
       "...                    ...         ...       ...                   ...   \n",
       "230847159             3409           1         0                  3405   \n",
       "230847160             3409           1         0                  3406   \n",
       "230847161             3409           1         0                  3407   \n",
       "230847162             3409           1         0                  3408   \n",
       "230847163             3409           1         0                  3409   \n",
       "\n",
       "           visit_day   visits  \n",
       "0                 16  78951.0  \n",
       "1                 16     17.0  \n",
       "2                 16      6.0  \n",
       "3                 16      0.0  \n",
       "4                 16      6.0  \n",
       "...              ...      ...  \n",
       "230847159         16      NaN  \n",
       "230847160         16      NaN  \n",
       "230847161         16      NaN  \n",
       "230847162         16      NaN  \n",
       "230847163         16      NaN  \n",
       "\n",
       "[158404 rows x 6 columns]"
      ]
     },
     "execution_count": 19,
     "metadata": {},
     "output_type": "execute_result"
    }
   ],
   "source": [
    "# 101 - Kabul\n",
    "# 1401 - Kunduz\n",
    "# 2401 - Kandahar\n",
    "possible_districts = [101, 1401, 2401]\n",
    "vists_districtspecific_df = vists_district_15_df# [vists_district_15_df['origin_district'].isin(possible_districts)]\n",
    "vists_districtspecific_day1_16_df =  vists_districtspecific_df[(vists_districtspecific_df['impact_day'] ==  1) & (vists_districtspecific_df['visit_day'] ==  16)]\n",
    "vists_districtspecific_day1001_1016_df =  vists_districtspecific_df[(vists_districtspecific_df['impact_day'] ==  1001) & (vists_districtspecific_df['visit_day'] ==  1016)]\n",
    "vists_districtspecific_day1_16_df\n",
    "                                                               "
   ]
  },
  {
   "cell_type": "code",
   "execution_count": 20,
   "metadata": {},
   "outputs": [
    {
     "data": {
      "text/html": [
       "<div>\n",
       "<style scoped>\n",
       "    .dataframe tbody tr th:only-of-type {\n",
       "        vertical-align: middle;\n",
       "    }\n",
       "\n",
       "    .dataframe tbody tr th {\n",
       "        vertical-align: top;\n",
       "    }\n",
       "\n",
       "    .dataframe thead th {\n",
       "        text-align: right;\n",
       "    }\n",
       "</style>\n",
       "<table border=\"1\" class=\"dataframe\">\n",
       "  <thead>\n",
       "    <tr style=\"text-align: right;\">\n",
       "      <th></th>\n",
       "      <th>index</th>\n",
       "      <th>origin_district</th>\n",
       "      <th>impact_day</th>\n",
       "      <th>impacted</th>\n",
       "      <th>destination_district</th>\n",
       "      <th>visit_day</th>\n",
       "      <th>visits</th>\n",
       "    </tr>\n",
       "  </thead>\n",
       "  <tbody>\n",
       "    <tr>\n",
       "      <th>0</th>\n",
       "      <td>0</td>\n",
       "      <td>101</td>\n",
       "      <td>1</td>\n",
       "      <td>86936</td>\n",
       "      <td>101</td>\n",
       "      <td>16</td>\n",
       "      <td>78951.0</td>\n",
       "    </tr>\n",
       "    <tr>\n",
       "      <th>1</th>\n",
       "      <td>1</td>\n",
       "      <td>101</td>\n",
       "      <td>1</td>\n",
       "      <td>86936</td>\n",
       "      <td>102</td>\n",
       "      <td>16</td>\n",
       "      <td>17.0</td>\n",
       "    </tr>\n",
       "    <tr>\n",
       "      <th>2</th>\n",
       "      <td>2</td>\n",
       "      <td>101</td>\n",
       "      <td>1</td>\n",
       "      <td>86936</td>\n",
       "      <td>103</td>\n",
       "      <td>16</td>\n",
       "      <td>6.0</td>\n",
       "    </tr>\n",
       "    <tr>\n",
       "      <th>3</th>\n",
       "      <td>3</td>\n",
       "      <td>101</td>\n",
       "      <td>1</td>\n",
       "      <td>86936</td>\n",
       "      <td>104</td>\n",
       "      <td>16</td>\n",
       "      <td>0.0</td>\n",
       "    </tr>\n",
       "    <tr>\n",
       "      <th>4</th>\n",
       "      <td>4</td>\n",
       "      <td>101</td>\n",
       "      <td>1</td>\n",
       "      <td>86936</td>\n",
       "      <td>105</td>\n",
       "      <td>16</td>\n",
       "      <td>6.0</td>\n",
       "    </tr>\n",
       "    <tr>\n",
       "      <th>...</th>\n",
       "      <td>...</td>\n",
       "      <td>...</td>\n",
       "      <td>...</td>\n",
       "      <td>...</td>\n",
       "      <td>...</td>\n",
       "      <td>...</td>\n",
       "      <td>...</td>\n",
       "    </tr>\n",
       "    <tr>\n",
       "      <th>158399</th>\n",
       "      <td>230847159</td>\n",
       "      <td>3409</td>\n",
       "      <td>1</td>\n",
       "      <td>0</td>\n",
       "      <td>3405</td>\n",
       "      <td>16</td>\n",
       "      <td>NaN</td>\n",
       "    </tr>\n",
       "    <tr>\n",
       "      <th>158400</th>\n",
       "      <td>230847160</td>\n",
       "      <td>3409</td>\n",
       "      <td>1</td>\n",
       "      <td>0</td>\n",
       "      <td>3406</td>\n",
       "      <td>16</td>\n",
       "      <td>NaN</td>\n",
       "    </tr>\n",
       "    <tr>\n",
       "      <th>158401</th>\n",
       "      <td>230847161</td>\n",
       "      <td>3409</td>\n",
       "      <td>1</td>\n",
       "      <td>0</td>\n",
       "      <td>3407</td>\n",
       "      <td>16</td>\n",
       "      <td>NaN</td>\n",
       "    </tr>\n",
       "    <tr>\n",
       "      <th>158402</th>\n",
       "      <td>230847162</td>\n",
       "      <td>3409</td>\n",
       "      <td>1</td>\n",
       "      <td>0</td>\n",
       "      <td>3408</td>\n",
       "      <td>16</td>\n",
       "      <td>NaN</td>\n",
       "    </tr>\n",
       "    <tr>\n",
       "      <th>158403</th>\n",
       "      <td>230847163</td>\n",
       "      <td>3409</td>\n",
       "      <td>1</td>\n",
       "      <td>0</td>\n",
       "      <td>3409</td>\n",
       "      <td>16</td>\n",
       "      <td>NaN</td>\n",
       "    </tr>\n",
       "  </tbody>\n",
       "</table>\n",
       "<p>158404 rows × 7 columns</p>\n",
       "</div>"
      ],
      "text/plain": [
       "            index  origin_district  impact_day  impacted  \\\n",
       "0               0              101           1     86936   \n",
       "1               1              101           1     86936   \n",
       "2               2              101           1     86936   \n",
       "3               3              101           1     86936   \n",
       "4               4              101           1     86936   \n",
       "...           ...              ...         ...       ...   \n",
       "158399  230847159             3409           1         0   \n",
       "158400  230847160             3409           1         0   \n",
       "158401  230847161             3409           1         0   \n",
       "158402  230847162             3409           1         0   \n",
       "158403  230847163             3409           1         0   \n",
       "\n",
       "        destination_district  visit_day   visits  \n",
       "0                        101         16  78951.0  \n",
       "1                        102         16     17.0  \n",
       "2                        103         16      6.0  \n",
       "3                        104         16      0.0  \n",
       "4                        105         16      6.0  \n",
       "...                      ...        ...      ...  \n",
       "158399                  3405         16      NaN  \n",
       "158400                  3406         16      NaN  \n",
       "158401                  3407         16      NaN  \n",
       "158402                  3408         16      NaN  \n",
       "158403                  3409         16      NaN  \n",
       "\n",
       "[158404 rows x 7 columns]"
      ]
     },
     "execution_count": 20,
     "metadata": {},
     "output_type": "execute_result"
    }
   ],
   "source": [
    "vists_districtspecific_day1_16_df = vists_districtspecific_day1_16_df.reset_index()\n",
    "vists_districtspecific_day1_16_df"
   ]
  },
  {
   "cell_type": "code",
   "execution_count": 21,
   "metadata": {},
   "outputs": [
    {
     "name": "stderr",
     "output_type": "stream",
     "text": [
      "/usr/local/anaconda3/lib/python3.7/site-packages/numpy/lib/histograms.py:839: RuntimeWarning: invalid value encountered in greater_equal\n",
      "  keep = (tmp_a >= first_edge)\n",
      "/usr/local/anaconda3/lib/python3.7/site-packages/numpy/lib/histograms.py:840: RuntimeWarning: invalid value encountered in less_equal\n",
      "  keep &= (tmp_a <= last_edge)\n"
     ]
    },
    {
     "data": {
      "text/plain": [
       "290.0"
      ]
     },
     "execution_count": 21,
     "metadata": {},
     "output_type": "execute_result"
    },
    {
     "data": {
      "image/png": "[encoded data removed]",
      "text/plain": [
       "<Figure size 432x288 with 2 Axes>"
      ]
     },
     "metadata": {
      "needs_background": "light"
     },
     "output_type": "display_data"
    }
   ],
   "source": [
    "nonself_visits_df = vists_districtspecific_day1_16_df[vists_districtspecific_day1_16_df['origin_district'] != vists_districtspecific_day1_16_df['destination_district']]#.sort_values(by=['visits'], ascending=False)\n",
    "fig, axs = plt.subplots(1, 2, sharey=True, tight_layout=True)\n",
    "axs[0].hist(vists_districtspecific_day1_16_df[vists_districtspecific_day1_16_df['origin_district'] == 101]['visits'][1:], bins=50)\n",
    "axs[1].hist(nonself_visits_df['visits'], bins=50)\n",
    "\n",
    "nonself_visits_df['visits'].max()"
   ]
  },
  {
   "cell_type": "code",
   "execution_count": 35,
   "metadata": {},
   "outputs": [
    {
     "data": {
      "text/plain": [
       "array([ 101,  102,  103,  104,  105,  107,  108,  109,  110,  111,  112,\n",
       "        114,  115,  201,  202,  204,  205,  207,  301,  302,  304,  305,\n",
       "        306,  307,  308,  309,  401,  407,  408,  409,  501,  502,  503,\n",
       "        504,  505,  601,  603,  607,  608,  609,  613,  614,  615,  701,\n",
       "        702,  703,  704,  705,  710,  711,  801,  802,  804,  805,  806,\n",
       "        807,  808,  809,  810,  811,  812,  813,  814,  815,  816,  817,\n",
       "        818,  819,  820,  821,  822,  901,  902,  903,  905, 1001, 1004,\n",
       "       1007, 1011, 1012, 1014, 1101, 1102, 1103, 1105, 1107, 1108, 1109,\n",
       "       1115, 1118, 1125, 1201, 1202, 1203, 1204, 1206, 1207, 1208, 1209,\n",
       "       1210, 1211, 1212, 1213, 1214, 1216, 1301, 1303, 1304, 1306, 1307,\n",
       "       1309, 1310, 1311, 1401, 1402, 1403, 1405, 1406, 1407, 1501, 1502,\n",
       "       1506, 1601, 1602, 1603, 1604, 1605, 1606, 1607, 1608, 1609, 1610,\n",
       "       1611, 1612, 1613, 1614, 1615, 1701, 1702, 1703, 1704, 1706, 1707,\n",
       "       1708, 1801, 1802, 1803, 1804, 1806, 1808, 1809, 1811, 1812, 1814,\n",
       "       1901, 1902, 1903, 1906, 1907, 2001, 2002, 2003, 2004, 2005, 2006,\n",
       "       2007, 2008, 2009, 2011, 2012, 2014, 2015, 2016, 2101, 2201, 2202,\n",
       "       2204, 2205, 2301, 2302, 2304, 2307, 2308, 2309, 2312, 2401, 2402,\n",
       "       2403, 2404, 2405, 2407, 2411, 2416, 2501, 2601, 2605, 2701, 2707,\n",
       "       2801, 2802, 2804, 2805, 2901, 2902, 2908, 2911, 2914, 2915, 2918,\n",
       "       2919, 3001, 3101, 3102, 3105, 3106, 3201, 3202, 3203, 3206, 3208,\n",
       "       3209, 3211, 3306, 3307, 3401])"
      ]
     },
     "execution_count": 35,
     "metadata": {},
     "output_type": "execute_result"
    }
   ],
   "source": [
    "vists_districtspecific_day1_16_df[vists_districtspecific_day1_16_df['impacted'] != 0]['origin_district'].unique()"
   ]
  },
  {
   "cell_type": "markdown",
   "metadata": {},
   "source": [
    "# Export as CSVs for D3js Analysis"
   ]
  },
  {
   "cell_type": "code",
   "execution_count": 37,
   "metadata": {},
   "outputs": [
    {
     "data": {
      "text/plain": [
       "290.0"
      ]
     },
     "execution_count": 37,
     "metadata": {},
     "output_type": "execute_result"
    }
   ],
   "source": [
    "vists_districtspecific_day1_16_df = vists_districtspecific_day1_16_df[vists_districtspecific_day1_16_df['origin_district'] != vists_districtspecific_day1_16_df['destination_district']]\n",
    "\n",
    "vists_districtspecific_day1_16_df['visits_percentage'] = vists_districtspecific_day1_16_df['visits'] / vists_districtspecific_day1_16_df['impacted']\n",
    "\n",
    "vists_districtspecific_day1_16_df['visits'].max()\n",
    "#percent_migrated_101_df.set_index('destination_district')['visits'].to_csv('data/district_101_migration_visits')\n",
    "\n",
    "vists_districtspecific_day1_16_df.set_index('origin_district').drop(['index'], axis=1).to_csv('data/districts_migration_visits_percentage.csv')\n",
    "vists_districtspecific_day1_16_df['visits'].max()"
   ]
  },
  {
   "cell_type": "code",
   "execution_count": 12,
   "metadata": {},
   "outputs": [
    {
     "data": {
      "text/plain": [
       "194.0"
      ]
     },
     "execution_count": 12,
     "metadata": {},
     "output_type": "execute_result"
    }
   ],
   "source": [
    "district_101_day1_16_df = vists_districtspecific_day1_16_df[vists_districtspecific_day1_16_df['origin_district'] == 101][1:]\n",
    "\n",
    "district_101_day1_16_df.set_index('destination_district')['visits'].to_csv('data/district_101_migration_visits.csv')\n",
    "\n",
    "# percentage will look the same visually as number (for now)\n",
    "district_101_day1_16_df['visits_percentage'] = district_101_day1_16_df['visits'] / district_101_day1_16_df['impacted']\n",
    "district_101_day1_16_df.set_index('destination_district')['visits_percentage'].to_csv('data/district_101_migration_visits_percentage.csv')\n",
    "\n",
    "district_101_day1_16_df['visits'].max()"
   ]
  },
  {
   "cell_type": "code",
   "execution_count": 9,
   "metadata": {},
   "outputs": [
    {
     "name": "stdout",
     "output_type": "stream",
     "text": [
      "k_1.csv    k_119.csv  k_160.csv  k_27.csv  k_47.csv  k_67.csv  k_87.csv\r\n",
      "k_10.csv   k_12.csv   k_165.csv  k_29.csv  k_49.csv  k_69.csv  k_89.csv\r\n",
      "k_100.csv  k_120.csv  k_17.csv   k_3.csv   k_5.csv   k_7.csv   k_9.csv\r\n",
      "k_101.csv  k_125.csv  k_170.csv  k_30.csv  k_50.csv  k_70.csv  k_90.csv\r\n",
      "k_103.csv  k_13.csv   k_175.csv  k_31.csv  k_51.csv  k_71.csv  k_91.csv\r\n",
      "k_105.csv  k_130.csv  k_18.csv   k_33.csv  k_53.csv  k_73.csv  k_93.csv\r\n",
      "k_107.csv  k_135.csv  k_180.csv  k_35.csv  k_55.csv  k_75.csv  k_95.csv\r\n",
      "k_109.csv  k_14.csv   k_19.csv   k_37.csv  k_57.csv  k_77.csv  k_97.csv\r\n",
      "k_11.csv   k_140.csv  k_2.csv    k_39.csv  k_59.csv  k_79.csv  k_99.csv\r\n",
      "k_110.csv  k_145.csv  k_20.csv   k_4.csv   k_6.csv   k_8.csv\r\n",
      "k_111.csv  k_15.csv   k_21.csv   k_40.csv  k_60.csv  k_80.csv\r\n",
      "k_113.csv  k_150.csv  k_22.csv   k_41.csv  k_61.csv  k_81.csv\r\n",
      "k_115.csv  k_155.csv  k_23.csv   k_43.csv  k_63.csv  k_83.csv\r\n",
      "k_117.csv  k_16.csv   k_25.csv   k_45.csv  k_65.csv  k_85.csv\r\n"
     ]
    }
   ],
   "source": [
    "ls '/data/afg_anon/displacement_metrics/visits_per_district_day'"
   ]
  },
  {
   "cell_type": "code",
   "execution_count": 38,
   "metadata": {},
   "outputs": [
    {
     "name": "stdout",
     "output_type": "stream",
     "text": [
      "0, 1.1328125, 2.265625, 3.3984375, 4.53125, 5.6640625, 6.796875, 7.9296875, 9.0625, 10.1953125, 11.328125, 12.4609375, 13.59375, 14.7265625, 15.859375, 16.9921875, 18.125, 19.2578125, 20.390625, 21.5234375, 22.65625, 23.7890625, 24.921875, 26.0546875, 27.1875, 28.3203125, 29.453125, 30.5859375, 31.71875, 32.8515625, 33.984375, 35.1171875, 36.25, 37.3828125, 38.515625, 39.6484375, 40.78125, 41.9140625, 43.046875, 44.1796875, 45.3125, 46.4453125, 47.578125, 48.7109375, 49.84375, 50.9765625, 52.109375, 53.2421875, 54.375, 55.5078125, 56.640625, 57.7734375, 58.90625, 60.0390625, 61.171875, 62.3046875, 63.4375, 64.5703125, 65.703125, 66.8359375, 67.96875, 69.1015625, 70.234375, 71.3671875, 72.5, 73.6328125, 74.765625, 75.8984375, 77.03125, 78.1640625, 79.296875, 80.4296875, 81.5625, 82.6953125, 83.828125, 84.9609375, 86.09375, 87.2265625, 88.359375, 89.4921875, 90.625, 91.7578125, 92.890625, 94.0234375, 95.15625, 96.2890625, 97.421875, 98.5546875, 99.6875, 100.8203125, 101.953125, 103.0859375, 104.21875, 105.3515625, 106.484375, 107.6171875, 108.75, 109.8828125, 111.015625, 112.1484375, 113.28125, 114.4140625, 115.546875, 116.6796875, 117.8125, 118.9453125, 120.078125, 121.2109375, 122.34375, 123.4765625, 124.609375, 125.7421875, 126.875, 128.0078125, 129.140625, 130.2734375, 131.40625, 132.5390625, 133.671875, 134.8046875, 135.9375, 137.0703125, 138.203125, 139.3359375, 140.46875, 141.6015625, 142.734375, 143.8671875, 145.0, 146.1328125, 147.265625, 148.3984375, 149.53125, 150.6640625, 151.796875, 152.9296875, 154.0625, 155.1953125, 156.328125, 157.4609375, 158.59375, 159.7265625, 160.859375, 161.9921875, 163.125, 164.2578125, 165.390625, 166.5234375, 167.65625, 168.7890625, 169.921875, 171.0546875, 172.1875, 173.3203125, 174.453125, 175.5859375, 176.71875, 177.8515625, 178.984375, 180.1171875, 181.25, 182.3828125, 183.515625, 184.6484375, 185.78125, 186.9140625, 188.046875, 189.1796875, 190.3125, 191.4453125, 192.578125, 193.7109375, 194.84375, 195.9765625, 197.109375, 198.2421875, 199.375, 200.5078125, 201.640625, 202.7734375, 203.90625, 205.0390625, 206.171875, 207.3046875, 208.4375, 209.5703125, 210.703125, 211.8359375, 212.96875, 214.1015625, 215.234375, 216.3671875, 217.5, 218.6328125, 219.765625, 220.8984375, 222.03125, 223.1640625, 224.296875, 225.4296875, 226.5625, 227.6953125, 228.828125, 229.9609375, 231.09375, 232.2265625, 233.359375, 234.4921875, 235.625, 236.7578125, 237.890625, 239.0234375, 240.15625, 241.2890625, 242.421875, 243.5546875, 244.6875, 245.8203125, 246.953125, 248.0859375, 249.21875, 250.3515625, 251.484375, 252.6171875, 253.75, 254.8828125, 256.015625, 257.1484375, 258.28125, 259.4140625, 260.546875, 261.6796875, 262.8125, 263.9453125, 265.078125, 266.2109375, 267.34375, 268.4765625, 269.609375, 270.7421875, 271.875, 273.0078125, 274.140625, 275.2734375, 276.40625, 277.5390625, 278.671875, 279.8046875, 280.9375, 282.0703125, 283.203125, 284.3359375, 285.46875, 286.6015625, 287.734375, 288.8671875, 290.0, \n",
      "257\n"
     ]
    }
   ],
   "source": [
    "count = 0\n",
    "i = 0\n",
    "while i <= 290:\n",
    "    print(i, end=\", \")\n",
    "    count += 1\n",
    "    i += 290/256\n",
    "print()\n",
    "print(count)"
   ]
  },
  {
   "cell_type": "code",
   "execution_count": 13,
   "metadata": {},
   "outputs": [],
   "source": [
    "colors = [\"#ffffff\", \"#f7fbff\",\"#f6faff\",\"#f5fafe\",\"#f5f9fe\",\"#f4f9fe\",\"#f3f8fe\",\"#f2f8fd\",\"#f2f7fd\",\"#f1f7fd\",\"#f0f6fd\",\"#eff6fc\",\"#eef5fc\",\"#eef5fc\",\"#edf4fc\",\"#ecf4fb\",\"#ebf3fb\",\"#eaf3fb\",\"#eaf2fb\",\"#e9f2fa\",\"#e8f1fa\",\"#e7f1fa\",\"#e7f0fa\",\"#e6f0f9\",\"#e5eff9\",\"#e4eff9\",\"#e3eef9\",\"#e3eef8\",\"#e2edf8\",\"#e1edf8\",\"#e0ecf8\",\"#e0ecf7\",\"#dfebf7\",\"#deebf7\",\"#ddeaf7\",\"#ddeaf6\",\"#dce9f6\",\"#dbe9f6\",\"#dae8f6\",\"#d9e8f5\",\"#d9e7f5\",\"#d8e7f5\",\"#d7e6f5\",\"#d6e6f4\",\"#d6e5f4\",\"#d5e5f4\",\"#d4e4f4\",\"#d3e4f3\",\"#d2e3f3\",\"#d2e3f3\",\"#d1e2f3\",\"#d0e2f2\",\"#cfe1f2\",\"#cee1f2\",\"#cde0f1\",\"#cce0f1\",\"#ccdff1\",\"#cbdff1\",\"#cadef0\",\"#c9def0\",\"#c8ddf0\",\"#c7ddef\",\"#c6dcef\",\"#c5dcef\",\"#c4dbee\",\"#c3dbee\",\"#c2daee\",\"#c1daed\",\"#c0d9ed\",\"#bfd9ec\",\"#bed8ec\",\"#bdd8ec\",\"#bcd7eb\",\"#bbd7eb\",\"#b9d6eb\",\"#b8d5ea\",\"#b7d5ea\",\"#b6d4e9\",\"#b5d4e9\",\"#b4d3e9\",\"#b2d3e8\",\"#b1d2e8\",\"#b0d1e7\",\"#afd1e7\",\"#add0e7\",\"#acd0e6\",\"#abcfe6\",\"#a9cfe5\",\"#a8cee5\",\"#a7cde5\",\"#a5cde4\",\"#a4cce4\",\"#a3cbe3\",\"#a1cbe3\",\"#a0cae3\",\"#9ec9e2\",\"#9dc9e2\",\"#9cc8e1\",\"#9ac7e1\",\"#99c6e1\",\"#97c6e0\",\"#96c5e0\",\"#94c4df\",\"#93c3df\",\"#91c3df\",\"#90c2de\",\"#8ec1de\",\"#8dc0de\",\"#8bc0dd\",\"#8abfdd\",\"#88bedc\",\"#87bddc\",\"#85bcdc\",\"#84bbdb\",\"#82bbdb\",\"#81badb\",\"#7fb9da\",\"#7eb8da\",\"#7cb7d9\",\"#7bb6d9\",\"#79b5d9\",\"#78b5d8\",\"#76b4d8\",\"#75b3d7\",\"#73b2d7\",\"#72b1d7\",\"#70b0d6\",\"#6fafd6\",\"#6daed5\",\"#6caed5\",\"#6badd5\",\"#69acd4\",\"#68abd4\",\"#66aad3\",\"#65a9d3\",\"#63a8d2\",\"#62a7d2\",\"#61a7d1\",\"#5fa6d1\",\"#5ea5d0\",\"#5da4d0\",\"#5ba3d0\",\"#5aa2cf\",\"#59a1cf\",\"#57a0ce\",\"#569fce\",\"#559ecd\",\"#549ecd\",\"#529dcc\",\"#519ccc\",\"#509bcb\",\"#4f9acb\",\"#4d99ca\",\"#4c98ca\",\"#4b97c9\",\"#4a96c9\",\"#4895c8\",\"#4794c8\",\"#4693c7\",\"#4592c7\",\"#4492c6\",\"#4391c6\",\"#4190c5\",\"#408fc4\",\"#3f8ec4\",\"#3e8dc3\",\"#3d8cc3\",\"#3c8bc2\",\"#3b8ac2\",\"#3a89c1\",\"#3988c1\",\"#3787c0\",\"#3686c0\",\"#3585bf\",\"#3484bf\",\"#3383be\",\"#3282bd\",\"#3181bd\",\"#3080bc\",\"#2f7fbc\",\"#2e7ebb\",\"#2d7dbb\",\"#2c7cba\",\"#2b7bb9\",\"#2a7ab9\",\"#2979b8\",\"#2878b8\",\"#2777b7\",\"#2676b6\",\"#2574b6\",\"#2473b5\",\"#2372b4\",\"#2371b4\",\"#2270b3\",\"#216fb3\",\"#206eb2\",\"#1f6db1\",\"#1e6cb0\",\"#1d6bb0\",\"#1c6aaf\",\"#1c69ae\",\"#1b68ae\",\"#1a67ad\",\"#1966ac\",\"#1865ab\",\"#1864aa\",\"#1763aa\",\"#1662a9\",\"#1561a8\",\"#1560a7\",\"#145fa6\",\"#135ea5\",\"#135da4\",\"#125ca4\",\"#115ba3\",\"#115aa2\",\"#1059a1\",\"#1058a0\",\"#0f579f\",\"#0e569e\",\"#0e559d\",\"#0e549c\",\"#0d539a\",\"#0d5299\",\"#0c5198\",\"#0c5097\",\"#0b4f96\",\"#0b4e95\",\"#0b4d93\",\"#0b4c92\",\"#0a4b91\",\"#0a4a90\",\"#0a498e\",\"#0a488d\",\"#09478c\",\"#09468a\",\"#094589\",\"#094487\",\"#094386\",\"#094285\",\"#094183\",\"#084082\",\"#083e80\",\"#083d7f\",\"#083c7d\",\"#083b7c\",\"#083a7a\",\"#083979\",\"#083877\",\"#083776\",\"#083674\",\"#083573\",\"#083471\",\"#083370\",\"#08326e\",\"#08316d\"]"
   ]
  },
  {
   "cell_type": "code",
   "execution_count": 29,
   "metadata": {},
   "outputs": [
    {
     "data": {
      "text/plain": [
       "'#08316d'"
      ]
     },
     "execution_count": 29,
     "metadata": {},
     "output_type": "execute_result"
    }
   ],
   "source": [
    "colors[int(0/200 * len(colors))-1]"
   ]
  },
  {
   "cell_type": "code",
   "execution_count": 31,
   "metadata": {},
   "outputs": [
    {
     "data": {
      "text/plain": [
       "'#08316d'"
      ]
     },
     "execution_count": 31,
     "metadata": {},
     "output_type": "execute_result"
    }
   ],
   "source": [
    "colors[-1]"
   ]
  },
  {
   "cell_type": "code",
   "execution_count": null,
   "metadata": {},
   "outputs": [],
   "source": []
  }
 ],
 "metadata": {
  "kernelspec": {
   "display_name": "Python 3",
   "language": "python",
   "name": "python3"
  },
  "language_info": {
   "codemirror_mode": {
    "name": "ipython",
    "version": 3
   },
   "file_extension": ".py",
   "mimetype": "text/x-python",
   "name": "python",
   "nbconvert_exporter": "python",
   "pygments_lexer": "ipython3",
   "version": "3.7.7"
  }
 },
 "nbformat": 4,
 "nbformat_minor": 4
}
